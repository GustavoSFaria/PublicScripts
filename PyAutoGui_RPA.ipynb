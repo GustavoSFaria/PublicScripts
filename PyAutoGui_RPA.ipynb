{
 "cells": [
  {
   "cell_type": "markdown",
   "metadata": {},
   "source": [
    "# Backup de um arquivo da Área de Trabalho para o Google Drive"
   ]
  },
  {
   "cell_type": "code",
   "execution_count": 1,
   "metadata": {},
   "outputs": [],
   "source": [
    "# Cheat Sheet PyAutoGui\n",
    "# https://pyautogui.readthedocs.io/en/latest/quickstart.html"
   ]
  },
  {
   "cell_type": "code",
   "execution_count": 2,
   "metadata": {},
   "outputs": [],
   "source": [
    "# Importar o pacote PyAutoGui para automação de tarefas\n",
    "import pyautogui\n",
    "\n",
    "# Importar a biblioteca Time\n",
    "import time"
   ]
  },
  {
   "cell_type": "code",
   "execution_count": 3,
   "metadata": {},
   "outputs": [],
   "source": [
    "# Exibir uma mensagem de alerta para o usuário não interferir com o mouse ou computador\n",
    "pyautogui.alert(\"O código vai começar. Não use nada no seu computador enquanto o código estiver executando e a tarefa não for concluída.\")\n",
    "\n",
    "# Pausa necessária para que o computador processe o camando que estamos fazendo.\n",
    "pyautogui.PAUSE = 0.5"
   ]
  },
  {
   "cell_type": "code",
   "execution_count": 4,
   "metadata": {},
   "outputs": [],
   "source": [
    "# Pesquisar os botões do teclado\n",
    "#pyautogui.KEYBOARD_KEYS"
   ]
  },
  {
   "cell_type": "code",
   "execution_count": 5,
   "metadata": {},
   "outputs": [],
   "source": [
    "# Pressionar (apertar uma vez e soltar) o botão do \"Windows\"\n",
    "pyautogui.press('winleft')"
   ]
  },
  {
   "cell_type": "code",
   "execution_count": 6,
   "metadata": {},
   "outputs": [],
   "source": [
    "# Escrever \"Chrome\" para pesquisar o Google Chorme e pressionar o enter para abrir o navegador\n",
    "pyautogui.write('chrome')\n",
    "pyautogui.press('enter')"
   ]
  },
  {
   "cell_type": "code",
   "execution_count": 7,
   "metadata": {},
   "outputs": [],
   "source": [
    "# Abrir o site desejado\n",
    "pyautogui.write('https://drive.google.com/drive/u/0/my-drive')\n",
    "\n",
    "# Esperar 1 segundo para a execução da próxima linha do código\n",
    "time.sleep(1)\n",
    "pyautogui.press('enter')"
   ]
  },
  {
   "cell_type": "code",
   "execution_count": 8,
   "metadata": {},
   "outputs": [],
   "source": [
    "# Abrir a área de trabalho através do atalho win+D\n",
    "pyautogui.hotkey(\"winleft\",\"d\")"
   ]
  },
  {
   "cell_type": "code",
   "execution_count": 9,
   "metadata": {},
   "outputs": [
    {
     "data": {
      "text/plain": [
       "Point(x=1210, y=631)"
      ]
     },
     "execution_count": 9,
     "metadata": {},
     "output_type": "execute_result"
    }
   ],
   "source": [
    "# Selecionar o arquivo na área de trabalho. Para isso é preciso informar a posição (coordenadas x e y) onde o arquivo se encontra \n",
    "# Dica: deixar o ponteiro do mouse sobre o arquivo e executar (através da navegação pelo teclado) o método position abaixo:\n",
    "\n",
    "pyautogui.position()\n",
    "\n",
    "# foi encontrada a seguinte posição: Point(x=1391, y=39)"
   ]
  },
  {
   "cell_type": "code",
   "execution_count": 10,
   "metadata": {},
   "outputs": [
    {
     "data": {
      "text/plain": [
       "'OK'"
      ]
     },
     "execution_count": 10,
     "metadata": {},
     "output_type": "execute_result"
    }
   ],
   "source": [
    "# Posicionar sobre o arquivo que eu quero fazer o backup\n",
    "pyautogui.moveTo(1391, 39)\n",
    "\n",
    "# Clicar no arquivo e segurar com o botão esquerdo. Quando não informado o botão do mouse, o código entende por padrão o da esquerda\n",
    "pyautogui.mouseDown()\n",
    "\n",
    "# Mover para a posição da tela que corresponde a área na página do Google Drive onde eu poderia soltar o arquivo para a cópia\n",
    "pyautogui.moveTo(896, 939)\n",
    "\n",
    "# Voltar para a tela do Google Drive através do Alt+Tab\n",
    "pyautogui.hotkey(\"alt\",\"tab\")\n",
    "time.sleep(1)\n",
    "\n",
    "# Soltar o arquivo (desapertar o botão do mouse)\n",
    "pyautogui.mouseUp()\n",
    "\n",
    "# Esperar mais 5 segundos\n",
    "time.sleep(5)\n",
    "\n",
    "# Exibir uma mensagem de alerta para o usuário não interferir com o mouse ou computador\n",
    "pyautogui.alert(\"O código foi concluído. Pode voltar a usar o computador\")"
   ]
  }
 ],
 "metadata": {
  "kernelspec": {
   "display_name": "Python 3",
   "language": "python",
   "name": "python3"
  },
  "language_info": {
   "codemirror_mode": {
    "name": "ipython",
    "version": 3
   },
   "file_extension": ".py",
   "mimetype": "text/x-python",
   "name": "python",
   "nbconvert_exporter": "python",
   "pygments_lexer": "ipython3",
   "version": "3.6.5"
  }
 },
 "nbformat": 4,
 "nbformat_minor": 2
}
